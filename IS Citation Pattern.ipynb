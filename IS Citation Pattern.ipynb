{
 "cells": [
  {
   "cell_type": "code",
   "execution_count": 2,
   "metadata": {
    "collapsed": false
   },
   "outputs": [],
   "source": [
    "in_path =r\"D:/rawdata/\"   # use your path\n",
    "out_path= \"D:/cleandata/\"\n",
    "import numpy\n",
    "import pandas as pd\n",
    "pd.set_option('display.max_columns', 500)\n",
    "import glob\n",
    "import re\n",
    "from nltk import stem\n",
    "porter = stem.porter.PorterStemmer()\n",
    "#from gensim import corpora, models, similarities\n",
    "#import matplotlib.pyplot as plt\n",
    "#%matplotlib inlineT"
   ]
  },
  {
   "cell_type": "code",
   "execution_count": 3,
   "metadata": {
    "collapsed": false
   },
   "outputs": [],
   "source": [
    "allFiles = glob.glob(in_path + \"/*.txt\")  # just to merge the data\n",
    "frame = pd.DataFrame()\n",
    "list_ = []\n",
    "for file_ in allFiles:\n",
    "    df_ = pd.read_table(file_,index_col=False, header=0)\n",
    "    list_.append(df_)\n",
    "    df = pd.concat(list_)\n",
    "#df=df[~df.AB.isnull()]\n",
    "#df=df[(df.DT!='Correction') & (df.DT!='Editorial Material')]\n",
    "#df.DE.fillna(' ',inplace=True)\n",
    "#df=df[df.PY<2016]\n",
    "df=df[df.PY>=2000]\n",
    "#df.reset_index(inplace=True, drop=True)\n",
    "#df['id']=df.index\n",
    "df=df.dropna(subset=[\"UT\"])  # dropping data without a WUS number\n",
    "df = df.reset_index(drop=True)\n",
    "df.to_csv(out_path+\"articles.csv\")\n",
    "#print len(df)\n",
    "#node=df[['id','TI','DE','PY','SO','TC']]\n",
    "#node.rename(columns={'TI':'label'},inplace=True)\n",
    "#node.to_csv('../csv/nodes.csv',index=False)"
   ]
  },
  {
   "cell_type": "code",
   "execution_count": 4,
   "metadata": {
    "collapsed": false
   },
   "outputs": [
    {
     "name": "stdout",
     "output_type": "stream",
     "text": [
      "4899\n",
      "4899\n"
     ]
    }
   ],
   "source": [
    "for i in range (0, len(df.index)):  #lower-casing all references\n",
    "    df.loc[i,\"CR\"]=str(df.loc[i,\"CR\"]).lower()\n",
    "    df.loc[i,\"SO\"]=str(df.loc[i,\"SO\"]).lower()\n",
    "    #df.loc[i,\"PY\"]=int(df.loc[i,\"PY\"]) # changing published year format to INT\n",
    "print (df['SO'].count())   \n",
    "df['SO'] = df['SO'].map({'mis quarterly': 'MISQ', 'information systems research': 'ISR', 'journal of management information systems':'JMIS',\n",
    "                        'journal of information technology':'JIT', \"information systems journal\":\"ISJ\",\n",
    "                        'journal of strategic information systems':'JSIS','european journal of information systems':'EJIS',\n",
    "                        'journal of the association for information systems':'JAIS'})\n",
    "df[\"CR\"].fillna(\"NaN\", inplace=True) # to avoid float error on ref_count string\n",
    "#df=df.dropna(subset=[\"SO\"])\n",
    "print (df['SO'].count())"
   ]
  },
  {
   "cell_type": "code",
   "execution_count": 5,
   "metadata": {
    "collapsed": false
   },
   "outputs": [],
   "source": [
    "def ref_count(str):\n",
    "    #counting total references\n",
    "    ref= [x.strip() for x in str.split(';')] \n",
    "    total_reference= len(ref)\n",
    "    #counting references to the 8\n",
    "    counts = {\"eur j inform syst\": 0, \"european journal of information systems\": 0,\n",
    "              \"mis q\":0, \"mis quart\":0, \"mis quarterly\" : 0, \"management information systems quarterly\":0,\n",
    "              \"j manage inform syst\":0,\"journal of management information systems\":0,\n",
    "              \"inform syst res\":0,\n",
    "              \"j inf technol\":0, \"j inform technol\":0, \"journal of information technology\":0,\n",
    "              \"j assoc inf syst\":0,\n",
    "              \"inform syst j\":0,\n",
    "              \"j strategic inf syst\":0, \"journal of strategic information systems\":0}\n",
    "    words = [x.strip() for x in str.split(',')]\n",
    "    for word in words:\n",
    "        if word in counts:\n",
    "            counts[word] += 1\n",
    "    return (counts, total_reference)"
   ]
  },
  {
   "cell_type": "code",
   "execution_count": 19,
   "metadata": {
    "collapsed": true
   },
   "outputs": [],
   "source": [
    "def merge_journals(dict): # merging different abrevations of same journal\n",
    "    dict[\"MISQ\"] = dict[\"mis q\"]+dict[\"mis quart\"] + dict[\"mis quarterly\"] + dict[\"management information systems quarterly\"]\n",
    "    dict[\"JIT\"]= dict[\"j inf technol\"] + dict [\"j inform technol\"] + dict[\"journal of information technology\"]\n",
    "    dict[\"EJIS\"]= dict[\"eur j inform syst\"] + dict[\"european journal of information systems\"]\n",
    "    dict[\"JMIS\"]= dict[\"j manage inform syst\"] + dict[\"journal of management information systems\"]\n",
    "    dict[\"ISR\"] = dict[\"inform syst res\"]\n",
    "    dict[\"JAIS\"]=dict[\"j assoc inf syst\"]\n",
    "    dict[\"ISJ\"]= dict[\"inform syst j\"]\n",
    "    dict[\"JSIS\"]=dict[\"j strategic inf syst\"] + dict[\"journal of strategic information systems\"]\n",
    "                       \n",
    "    #del dict[\"MIS QUART\"]\n",
    "    #del dict[\"J INFORM TECHNOL\"]\n",
    "    return dict"
   ]
  },
  {
   "cell_type": "code",
   "execution_count": 34,
   "metadata": {
    "collapsed": false
   },
   "outputs": [],
   "source": [
    "dic=[]  # id, source journal, count of references to each of 8 journals, total references of the articles, year of publication\n",
    "for i in range (0, len(df.index)):\n",
    "    b = ref_count(df.loc[i,\"CR\"])\n",
    "    a = merge_journals(b[0])\n",
    "    g= {'id': i,'source': df.loc[i,\"SO\"],'target':[{'j':'MISQ','count':a[\"MISQ\"]},{'j':'JIT','count':a[\"JIT\"]},\n",
    "                                              {'j':'EJIS','count':a[\"EJIS\"]},{'j':'JMIS','count':a[\"JMIS\"]},\n",
    "                                              {'j':'ISR','count':a[\"ISR\"]},{'j':'JAIS','count':a[\"JAIS\"]},\n",
    "                                              {'j':'ISJ','count':a[\"ISJ\"]},{'j':'JSIS','count':a[\"JSIS\"]}],'total_ref': b[1], 'year': df.loc[i,\"PY\"] }\n",
    "    dic.append(g)"
   ]
  },
  {
   "cell_type": "code",
   "execution_count": 36,
   "metadata": {
    "collapsed": false
   },
   "outputs": [
    {
     "data": {
      "text/plain": [
       "305881"
      ]
     },
     "execution_count": 36,
     "metadata": {},
     "output_type": "execute_result"
    }
   ],
   "source": [
    "total=0 #total number of references of all articles\n",
    "for article in dic:\n",
    "    total +=article['total_ref']\n",
    "total"
   ]
  },
  {
   "cell_type": "code",
   "execution_count": 37,
   "metadata": {
    "collapsed": false
   },
   "outputs": [],
   "source": [
    "listofso=['MISQ', 'ISR', 'JMIS','JIT','ISJ', \"JSIS\", 'EJIS', 'JAIS' ]\n",
    "total_ref_per_source={'MISQ':0, 'ISR':0, 'JIT':0, 'EJIS':0, 'JAIS':0, 'ISJ':0, \"JSIS\":0,'JMIS':0} # total references of each journal\n",
    "for article in dic:\n",
    "    source=article['source']\n",
    "    refcount=article['total_ref']\n",
    "    for so in listofso:\n",
    "        if source==so:\n",
    "            total_ref_per_source[so]=total_ref_per_source[so]+refcount"
   ]
  },
  {
   "cell_type": "code",
   "execution_count": 47,
   "metadata": {
    "collapsed": false
   },
   "outputs": [
    {
     "data": {
      "text/plain": [
       "{'EJIS': 44832,\n",
       " 'ISJ': 25727,\n",
       " 'ISR': 43009,\n",
       " 'JAIS': 31803,\n",
       " 'JIT': 27262,\n",
       " 'JMIS': 48097,\n",
       " 'JSIS': 23925,\n",
       " 'MISQ': 61226}"
      ]
     },
     "execution_count": 47,
     "metadata": {},
     "output_type": "execute_result"
    }
   ],
   "source": [
    "total_ref_per_source"
   ]
  },
  {
   "cell_type": "code",
   "execution_count": 12,
   "metadata": {
    "collapsed": false
   },
   "outputs": [],
   "source": [
    "listofj=['MISQ', 'ISR', 'JMIS','JIT','ISJ', \"JSIS\", 'EJIS', 'JAIS' ]\n",
    "listofso=['MISQ', 'ISR', 'JMIS','JIT','ISJ', \"JSIS\", 'EJIS', 'JAIS' ]\n",
    "final={'ISJ':{'MISQ':0, 'ISR':0, 'JIT':0, 'EJIS':0, 'JAIS':0, 'ISJ':0, \"JSIS\":0,'JMIS':0},\n",
    "       'JSIS':{'MISQ':0, 'ISR':0, 'JIT':0, 'EJIS':0, 'JAIS':0, 'ISJ':0, \"JSIS\":0,'JMIS':0},\n",
    "       'ISR':{'MISQ':0, 'ISR':0, 'JIT':0, 'EJIS':0, 'JAIS':0, 'ISJ':0, \"JSIS\":0,'JMIS':0},\n",
    "       'MISQ':{'MISQ':0, 'ISR':0, 'JIT':0, 'EJIS':0, 'JAIS':0, 'ISJ':0, \"JSIS\":0,'JMIS':0},\n",
    "       'JAIS' :{'MISQ':0, 'ISR':0, 'JIT':0, 'EJIS':0, 'JAIS':0, 'ISJ':0, \"JSIS\":0,'JMIS':0},\n",
    "       \"EJIS\":{'MISQ':0, 'ISR':0, 'JIT':0, 'EJIS':0, 'JAIS':0, 'ISJ':0, \"JSIS\":0,'JMIS':0},\n",
    "       'JIT':{'MISQ':0, 'ISR':0, 'JIT':0, 'EJIS':0, 'JAIS':0, 'ISJ':0, \"JSIS\":0,'JMIS':0},\n",
    "       \"JMIS\": {'MISQ':0, 'ISR':0, 'JIT':0, 'EJIS':0, 'JAIS':0, 'ISJ':0, \"JSIS\":0,'JMIS':0}\n",
    "      }\n",
    "for article in dic:\n",
    "    source=article['source']\n",
    "    targets=article['target']\n",
    "    for target in targets:\n",
    "        jname=target['j']\n",
    "        jcount=target['count']\n",
    "        for so in listofso:\n",
    "            for ta in listofj:\n",
    "                if source==so:\n",
    "                    if jname==ta:\n",
    "                        final[ta][so]=final[ta][so]+jcount\n",
    "                "
   ]
  },
  {
   "cell_type": "code",
   "execution_count": 16,
   "metadata": {
    "collapsed": false
   },
   "outputs": [
    {
     "name": "stdout",
     "output_type": "stream",
     "text": [
      "{'JAIS': 408, 'MISQ': 803, 'EJIS': 775, 'ISR': 709, 'JSIS': 394, 'JIT': 517, 'ISJ': 467, 'JMIS': 826} 4899\n"
     ]
    }
   ],
   "source": [
    "Source_Sum={'MISQ':0, 'ISR':0, 'JIT':0, 'EJIS':0, 'JAIS':0, 'ISJ':0, \"JSIS\":0,'JMIS':0} # number of total paper from each journal\n",
    "k=0\n",
    "for article in dic:\n",
    "    for so in listofso:\n",
    "        if so==article['source']:\n",
    "            k+=1\n",
    "            Source_Sum[so]=Source_Sum[so]+1\n",
    "print (Source_Sum,k) "
   ]
  },
  {
   "cell_type": "code",
   "execution_count": 19,
   "metadata": {
    "collapsed": false
   },
   "outputs": [
    {
     "name": "stdout",
     "output_type": "stream",
     "text": [
      "{'ISR': 14.301225376143943, 'JAIS': 6.32852489530014, 'ISJ': 10.128742050566155, 'EJIS': 15.076779897626803, 'JMIS': 13.15340468434931, 'JIT': 11.292073832790445, 'MISQ': 21.824104234527688, 'JSIS': 7.895145028695517}\n"
     ]
    }
   ],
   "source": [
    "Source_Sum1={}\n",
    "for so in listofso:\n",
    "    Source_Sum1[so] = Source_Sum[so]*100/k\n",
    "print(Source_Sum1)"
   ]
  },
  {
   "cell_type": "code",
   "execution_count": 10,
   "metadata": {
    "collapsed": false
   },
   "outputs": [
    {
     "name": "stdout",
     "output_type": "stream",
     "text": [
      "EJIS      8729\n",
      "ISJ_S        0\n",
      "ISR       6300\n",
      "JAIS      6164\n",
      "JIT       4326\n",
      "JMIS      9202\n",
      "JSIS      5061\n",
      "MISQ     11232\n",
      "dtype: int64 EJIS     3731\n",
      "ISJ      1500\n",
      "ISR     10844\n",
      "JAIS     2406\n",
      "JIT      1858\n",
      "JMIS     8166\n",
      "JSIS     2447\n",
      "MISQ    20062\n",
      "dtype: int64\n"
     ]
    }
   ],
   "source": [
    "citation=pd.DataFrame(data=final)\n",
    "given_citation = citation.sum(axis=0) # number of times each journal cited any of 8\n",
    "recieved_citation = citation.sum(axis=1) # number of citation each journal recieved from other 8\n",
    "print(given_citation, recieved_citation)"
   ]
  },
  {
   "cell_type": "code",
   "execution_count": 15,
   "metadata": {
    "collapsed": false
   },
   "outputs": [
    {
     "name": "stdout",
     "output_type": "stream",
     "text": [
      "51014 51014\n"
     ]
    }
   ],
   "source": [
    "print (recieved_citation.sum(), given_citation.sum())"
   ]
  },
  {
   "cell_type": "code",
   "execution_count": 142,
   "metadata": {
    "collapsed": true
   },
   "outputs": [],
   "source": [
    "citation_per = citation.copy()"
   ]
  },
  {
   "cell_type": "code",
   "execution_count": 155,
   "metadata": {
    "collapsed": false,
    "scrolled": false
   },
   "outputs": [
    {
     "name": "stdout",
     "output_type": "stream",
     "text": [
      "          EJIS       ISJ       ISR      JAIS       JIT      JMIS      JSIS  \\\n",
      "EJIS  20.15004  8.659595  2.831114  5.207657  9.932968  2.161523  6.327498   \n",
      "ISJ   4.490702  19.22854  1.457603  3.520441  5.748527  1.182923  2.881109   \n",
      "ISR   15.33178  14.38766  35.33287   20.8793  12.97989   19.8731  12.91028   \n",
      "JAIS  4.025782  3.490839  3.069376  10.48021  4.834451  2.494892  2.607586   \n",
      "JIT   4.459003  5.515911  1.177295  2.839066  15.11274  1.247446   5.39752   \n",
      "JMIS  10.88335  8.640309  12.62789  12.54056  9.343896  38.79987  9.865062   \n",
      "JSIS  3.476331  4.300868  1.639804  1.995457  5.748527  1.462523   24.9453   \n",
      "MISQ  37.18301  35.77628  41.86405  42.53731    36.299  32.77772  35.06565   \n",
      "\n",
      "          MISQ  \n",
      "EJIS  3.767649  \n",
      "ISJ    1.79558  \n",
      "ISR   22.29896  \n",
      "JAIS   4.19736  \n",
      "JIT   1.557704  \n",
      "JMIS  10.93462  \n",
      "JSIS  1.956722  \n",
      "MISQ  53.49141  \n"
     ]
    }
   ],
   "source": [
    "for so in listofso:\n",
    "    for ta in listofj:\n",
    "        citation_per.loc[ta,so]= (citation.loc[ta,so]/given_citation[so]*100)\n",
    "print (citation_per)"
   ]
  },
  {
   "cell_type": "code",
   "execution_count": 156,
   "metadata": {
    "collapsed": true
   },
   "outputs": [
    {
     "ename": "TypeError",
     "evalue": "(\"unsupported operand type(s) for +: 'numpy.float64' and 'str'\", 'occurred at index EJIS')",
     "output_type": "error",
     "traceback": [
      "\u001b[1;31m---------------------------------------------------------------------------\u001b[0m",
      "\u001b[1;31mTypeError\u001b[0m                                 Traceback (most recent call last)",
      "\u001b[1;32m<ipython-input-156-11fb3c5ba33e>\u001b[0m in \u001b[0;36m<module>\u001b[1;34m()\u001b[0m\n\u001b[1;32m----> 1\u001b[1;33m \u001b[0mcitation_per1\u001b[0m \u001b[1;33m=\u001b[0m \u001b[0mcitation_per\u001b[0m\u001b[1;33m.\u001b[0m\u001b[0mapplymap\u001b[0m\u001b[1;33m(\u001b[0m \u001b[1;32mlambda\u001b[0m \u001b[0mx\u001b[0m \u001b[1;33m:\u001b[0m \u001b[0mstr\u001b[0m\u001b[1;33m(\u001b[0m\u001b[0mx\u001b[0m \u001b[1;33m+\u001b[0m \u001b[1;34m\"%\"\u001b[0m\u001b[1;33m)\u001b[0m\u001b[1;33m)\u001b[0m\u001b[1;33m\u001b[0m\u001b[0m\n\u001b[0m",
      "\u001b[1;32mC:\\Users\\par\\Anaconda3\\lib\\site-packages\\pandas\\core\\frame.py\u001b[0m in \u001b[0;36mapplymap\u001b[1;34m(self, func)\u001b[0m\n\u001b[0;32m   3885\u001b[0m                 \u001b[0mx\u001b[0m \u001b[1;33m=\u001b[0m \u001b[0mlib\u001b[0m\u001b[1;33m.\u001b[0m\u001b[0mmap_infer\u001b[0m\u001b[1;33m(\u001b[0m\u001b[0m_values_from_object\u001b[0m\u001b[1;33m(\u001b[0m\u001b[0mx\u001b[0m\u001b[1;33m)\u001b[0m\u001b[1;33m,\u001b[0m \u001b[0mf\u001b[0m\u001b[1;33m)\u001b[0m\u001b[1;33m\u001b[0m\u001b[0m\n\u001b[0;32m   3886\u001b[0m             \u001b[1;32mreturn\u001b[0m \u001b[0mlib\u001b[0m\u001b[1;33m.\u001b[0m\u001b[0mmap_infer\u001b[0m\u001b[1;33m(\u001b[0m\u001b[0m_values_from_object\u001b[0m\u001b[1;33m(\u001b[0m\u001b[0mx\u001b[0m\u001b[1;33m)\u001b[0m\u001b[1;33m,\u001b[0m \u001b[0mfunc\u001b[0m\u001b[1;33m)\u001b[0m\u001b[1;33m\u001b[0m\u001b[0m\n\u001b[1;32m-> 3887\u001b[1;33m         \u001b[1;32mreturn\u001b[0m \u001b[0mself\u001b[0m\u001b[1;33m.\u001b[0m\u001b[0mapply\u001b[0m\u001b[1;33m(\u001b[0m\u001b[0minfer\u001b[0m\u001b[1;33m)\u001b[0m\u001b[1;33m\u001b[0m\u001b[0m\n\u001b[0m\u001b[0;32m   3888\u001b[0m \u001b[1;33m\u001b[0m\u001b[0m\n\u001b[0;32m   3889\u001b[0m     \u001b[1;31m#----------------------------------------------------------------------\u001b[0m\u001b[1;33m\u001b[0m\u001b[1;33m\u001b[0m\u001b[0m\n",
      "\u001b[1;32mC:\\Users\\par\\Anaconda3\\lib\\site-packages\\pandas\\core\\frame.py\u001b[0m in \u001b[0;36mapply\u001b[1;34m(self, func, axis, broadcast, raw, reduce, args, **kwds)\u001b[0m\n\u001b[0;32m   3716\u001b[0m                     \u001b[1;32mif\u001b[0m \u001b[0mreduce\u001b[0m \u001b[1;32mis\u001b[0m \u001b[1;32mNone\u001b[0m\u001b[1;33m:\u001b[0m\u001b[1;33m\u001b[0m\u001b[0m\n\u001b[0;32m   3717\u001b[0m                         \u001b[0mreduce\u001b[0m \u001b[1;33m=\u001b[0m \u001b[1;32mTrue\u001b[0m\u001b[1;33m\u001b[0m\u001b[0m\n\u001b[1;32m-> 3718\u001b[1;33m                     \u001b[1;32mreturn\u001b[0m \u001b[0mself\u001b[0m\u001b[1;33m.\u001b[0m\u001b[0m_apply_standard\u001b[0m\u001b[1;33m(\u001b[0m\u001b[0mf\u001b[0m\u001b[1;33m,\u001b[0m \u001b[0maxis\u001b[0m\u001b[1;33m,\u001b[0m \u001b[0mreduce\u001b[0m\u001b[1;33m=\u001b[0m\u001b[0mreduce\u001b[0m\u001b[1;33m)\u001b[0m\u001b[1;33m\u001b[0m\u001b[0m\n\u001b[0m\u001b[0;32m   3719\u001b[0m             \u001b[1;32melse\u001b[0m\u001b[1;33m:\u001b[0m\u001b[1;33m\u001b[0m\u001b[0m\n\u001b[0;32m   3720\u001b[0m                 \u001b[1;32mreturn\u001b[0m \u001b[0mself\u001b[0m\u001b[1;33m.\u001b[0m\u001b[0m_apply_broadcast\u001b[0m\u001b[1;33m(\u001b[0m\u001b[0mf\u001b[0m\u001b[1;33m,\u001b[0m \u001b[0maxis\u001b[0m\u001b[1;33m)\u001b[0m\u001b[1;33m\u001b[0m\u001b[0m\n",
      "\u001b[1;32mC:\\Users\\par\\Anaconda3\\lib\\site-packages\\pandas\\core\\frame.py\u001b[0m in \u001b[0;36m_apply_standard\u001b[1;34m(self, func, axis, ignore_failures, reduce)\u001b[0m\n\u001b[0;32m   3806\u001b[0m             \u001b[1;32mtry\u001b[0m\u001b[1;33m:\u001b[0m\u001b[1;33m\u001b[0m\u001b[0m\n\u001b[0;32m   3807\u001b[0m                 \u001b[1;32mfor\u001b[0m \u001b[0mi\u001b[0m\u001b[1;33m,\u001b[0m \u001b[0mv\u001b[0m \u001b[1;32min\u001b[0m \u001b[0menumerate\u001b[0m\u001b[1;33m(\u001b[0m\u001b[0mseries_gen\u001b[0m\u001b[1;33m)\u001b[0m\u001b[1;33m:\u001b[0m\u001b[1;33m\u001b[0m\u001b[0m\n\u001b[1;32m-> 3808\u001b[1;33m                     \u001b[0mresults\u001b[0m\u001b[1;33m[\u001b[0m\u001b[0mi\u001b[0m\u001b[1;33m]\u001b[0m \u001b[1;33m=\u001b[0m \u001b[0mfunc\u001b[0m\u001b[1;33m(\u001b[0m\u001b[0mv\u001b[0m\u001b[1;33m)\u001b[0m\u001b[1;33m\u001b[0m\u001b[0m\n\u001b[0m\u001b[0;32m   3809\u001b[0m                     \u001b[0mkeys\u001b[0m\u001b[1;33m.\u001b[0m\u001b[0mappend\u001b[0m\u001b[1;33m(\u001b[0m\u001b[0mv\u001b[0m\u001b[1;33m.\u001b[0m\u001b[0mname\u001b[0m\u001b[1;33m)\u001b[0m\u001b[1;33m\u001b[0m\u001b[0m\n\u001b[0;32m   3810\u001b[0m             \u001b[1;32mexcept\u001b[0m \u001b[0mException\u001b[0m \u001b[1;32mas\u001b[0m \u001b[0me\u001b[0m\u001b[1;33m:\u001b[0m\u001b[1;33m\u001b[0m\u001b[0m\n",
      "\u001b[1;32mC:\\Users\\par\\Anaconda3\\lib\\site-packages\\pandas\\core\\frame.py\u001b[0m in \u001b[0;36minfer\u001b[1;34m(x)\u001b[0m\n\u001b[0;32m   3884\u001b[0m                 \u001b[0mf\u001b[0m \u001b[1;33m=\u001b[0m \u001b[0mcom\u001b[0m\u001b[1;33m.\u001b[0m\u001b[0mi8_boxer\u001b[0m\u001b[1;33m(\u001b[0m\u001b[0mx\u001b[0m\u001b[1;33m)\u001b[0m\u001b[1;33m\u001b[0m\u001b[0m\n\u001b[0;32m   3885\u001b[0m                 \u001b[0mx\u001b[0m \u001b[1;33m=\u001b[0m \u001b[0mlib\u001b[0m\u001b[1;33m.\u001b[0m\u001b[0mmap_infer\u001b[0m\u001b[1;33m(\u001b[0m\u001b[0m_values_from_object\u001b[0m\u001b[1;33m(\u001b[0m\u001b[0mx\u001b[0m\u001b[1;33m)\u001b[0m\u001b[1;33m,\u001b[0m \u001b[0mf\u001b[0m\u001b[1;33m)\u001b[0m\u001b[1;33m\u001b[0m\u001b[0m\n\u001b[1;32m-> 3886\u001b[1;33m             \u001b[1;32mreturn\u001b[0m \u001b[0mlib\u001b[0m\u001b[1;33m.\u001b[0m\u001b[0mmap_infer\u001b[0m\u001b[1;33m(\u001b[0m\u001b[0m_values_from_object\u001b[0m\u001b[1;33m(\u001b[0m\u001b[0mx\u001b[0m\u001b[1;33m)\u001b[0m\u001b[1;33m,\u001b[0m \u001b[0mfunc\u001b[0m\u001b[1;33m)\u001b[0m\u001b[1;33m\u001b[0m\u001b[0m\n\u001b[0m\u001b[0;32m   3887\u001b[0m         \u001b[1;32mreturn\u001b[0m \u001b[0mself\u001b[0m\u001b[1;33m.\u001b[0m\u001b[0mapply\u001b[0m\u001b[1;33m(\u001b[0m\u001b[0minfer\u001b[0m\u001b[1;33m)\u001b[0m\u001b[1;33m\u001b[0m\u001b[0m\n\u001b[0;32m   3888\u001b[0m \u001b[1;33m\u001b[0m\u001b[0m\n",
      "\u001b[1;32mpandas\\src\\inference.pyx\u001b[0m in \u001b[0;36mpandas.lib.map_infer (pandas\\lib.c:58435)\u001b[1;34m()\u001b[0m\n",
      "\u001b[1;32m<ipython-input-156-11fb3c5ba33e>\u001b[0m in \u001b[0;36m<lambda>\u001b[1;34m(x)\u001b[0m\n\u001b[1;32m----> 1\u001b[1;33m \u001b[0mcitation_per1\u001b[0m \u001b[1;33m=\u001b[0m \u001b[0mcitation_per\u001b[0m\u001b[1;33m.\u001b[0m\u001b[0mapplymap\u001b[0m\u001b[1;33m(\u001b[0m \u001b[1;32mlambda\u001b[0m \u001b[0mx\u001b[0m \u001b[1;33m:\u001b[0m \u001b[0mstr\u001b[0m\u001b[1;33m(\u001b[0m\u001b[0mx\u001b[0m \u001b[1;33m+\u001b[0m \u001b[1;34m\"%\"\u001b[0m\u001b[1;33m)\u001b[0m\u001b[1;33m)\u001b[0m\u001b[1;33m\u001b[0m\u001b[0m\n\u001b[0m",
      "\u001b[1;31mTypeError\u001b[0m: (\"unsupported operand type(s) for +: 'numpy.float64' and 'str'\", 'occurred at index EJIS')"
     ]
    }
   ],
   "source": [
    "citation_per1 = citation_per.applymap( lambda x : str(x + \"%\"))"
   ]
  },
  {
   "cell_type": "code",
   "execution_count": 456,
   "metadata": {
    "collapsed": true
   },
   "outputs": [],
   "source": [
    "#chi hast table va koja be dast oomade o che natije dade be ma"
   ]
  },
  {
   "cell_type": "code",
   "execution_count": 183,
   "metadata": {
    "collapsed": false
   },
   "outputs": [
    {
     "data": {
      "text/plain": [
       "5185.0"
      ]
     },
     "execution_count": 183,
     "metadata": {},
     "output_type": "execute_result"
    }
   ],
   "source": [
    "given_citation[\"ISJ\"]"
   ]
  },
  {
   "cell_type": "code",
   "execution_count": 216,
   "metadata": {
    "collapsed": true
   },
   "outputs": [],
   "source": [
    "for i\n",
    "df1=df[df.PY>=2000]\n",
    "df1 = df1.reset_index(drop=True)"
   ]
  },
  {
   "cell_type": "code",
   "execution_count": 194,
   "metadata": {
    "collapsed": true
   },
   "outputs": [
    {
     "name": "stdout",
     "output_type": "stream",
     "text": [
      "2000\n",
      "2001\n",
      "2002\n",
      "2003\n",
      "2004\n",
      "2005\n",
      "2006\n",
      "2007\n",
      "2008\n",
      "2009\n",
      "2010\n",
      "2011\n",
      "2012\n",
      "2013\n",
      "2014\n",
      "2015\n",
      "2016\n",
      "2017\n",
      "2018\n"
     ]
    }
   ],
   "source": [
    "year=[]  # citation recieved and gave per year\n",
    "for j in range (2000,2019):\n",
    "    df1 = df[df.PY==j]\n",
    "    df1 = df1.reset_index(drop=True)\n",
    "    dic_new=[]\n",
    "    for i in range (0, len(df1.index)):\n",
    "        b = ref_count(df1.loc[i,\"CR\"])\n",
    "        a = merge_journals(b)\n",
    "        g= {'id': i,'source': df1.loc[i,\"SO\"],'target':[{'j':'MISQ','count':a[\"MISQ\"]},{'j':'JIT','count':a[\"JIT\"]},\n",
    "                                              {'j':'EJIS','count':a[\"EJIS\"]},{'j':'JMIS','count':a[\"JMIS\"]},\n",
    "                                              {'j':'ISR','count':a[\"ISR\"]},{'j':'JAIS','count':a[\"JAIS\"]},\n",
    "                                              {'j':'ISJ','count':a[\"ISJ\"]},{'j':'JSIS','count':a[\"JSIS\"]}]}\n",
    "        dic_new.append(g)\n",
    "    final_new={'ISJ':{'MISQ':0, 'ISR':0, 'JIT':0, 'EJIS':0, 'JAIS':0, 'ISJ':0, \"JSIS\":0,'JMIS':0},\n",
    "       'JSIS':{'MISQ':0, 'ISR':0, 'JIT':0, 'EJIS':0, 'JAIS':0, 'ISJ':0, \"JSIS\":0,'JMIS':0},\n",
    "       'ISR':{'MISQ':0, 'ISR':0, 'JIT':0, 'EJIS':0, 'JAIS':0, 'ISJ':0, \"JSIS\":0,'JMIS':0},\n",
    "       'MISQ':{'MISQ':0, 'ISR':0, 'JIT':0, 'EJIS':0, 'JAIS':0, 'ISJ':0, \"JSIS\":0,'JMIS':0},\n",
    "       'JAIS' :{'MISQ':0, 'ISR':0, 'JIT':0, 'EJIS':0, 'JAIS':0, 'ISJ':0, \"JSIS\":0,'JMIS':0},\n",
    "       \"EJIS\":{'MISQ':0, 'ISR':0, 'JIT':0, 'EJIS':0, 'JAIS':0, 'ISJ':0, \"JSIS\":0,'JMIS':0},\n",
    "       'JIT':{'MISQ':0, 'ISR':0, 'JIT':0, 'EJIS':0, 'JAIS':0, 'ISJ':0, \"JSIS\":0,'JMIS':0},\n",
    "       \"JMIS\": {'MISQ':0, 'ISR':0, 'JIT':0, 'EJIS':0, 'JAIS':0, 'ISJ':0, \"JSIS\":0,'JMIS':0}\n",
    "                }\n",
    "    for article in dic_new:\n",
    "        source=article['source']\n",
    "        targets=article['target']\n",
    "        for target in targets:\n",
    "            jname=target['j']\n",
    "            jcount=target['count']\n",
    "            for so in listofso:\n",
    "                for ta in listofj:\n",
    "                    if source==so:\n",
    "                        if jname==ta:\n",
    "                            final_new[so][ta]=final_new[so][ta]+jcount\n",
    "    citation_new=pd.DataFrame(data=final_new)\n",
    "    given_citation_new = citation_new.sum(axis=0) # number of times each journal cited any of 8\n",
    "    recieved_citation_new= citation_new.sum(axis=1) # number of citation each journal recieved from other 8\n",
    "    year.append((j,given_citation_new,recieved_citation_new))"
   ]
  },
  {
   "cell_type": "code",
   "execution_count": 262,
   "metadata": {
    "collapsed": false
   },
   "outputs": [],
   "source": [
    "k=2 # 2 for recieved citation, 1 for given citation\n",
    "M=18\n",
    "EJIS_R=np.arange(M)\n",
    "ISJ_R=np.arange(M)\n",
    "ISR_R=np.arange(M)\n",
    "JAIS_R=np.arange(M)\n",
    "JIT_R=np.arange(M)\n",
    "JMIS_R=np.arange(M)\n",
    "JSIS_R=np.arange(M)\n",
    "MISQ_R=np.arange(M)\n",
    "for i in range (0,18):\n",
    "    EJIS_R[i]=year[i][k][0]\n",
    "    ISJ_R[i]=year[i][k][1]\n",
    "    ISR_R[i]=year[i][k][2]\n",
    "    JAIS_R[i]=year[i][k][3]\n",
    "    JIT_R[i]=year[i][k][4]\n",
    "    JMIS_R[i]=year[i][k][5]\n",
    "    JSIS_R[i]=year[i][k][6]\n",
    "    MISQ_R[i]=year[i][k][7]"
   ]
  },
  {
   "cell_type": "code",
   "execution_count": 263,
   "metadata": {
    "collapsed": false
   },
   "outputs": [
    {
     "data": {
      "text/plain": [
       "array([ 51,  51,  80,  73,  79, 146, 165, 213, 218, 226, 270, 258, 365,\n",
       "       362, 370, 372, 330, 413])"
      ]
     },
     "execution_count": 263,
     "metadata": {},
     "output_type": "execute_result"
    }
   ],
   "source": [
    "EJIS_R"
   ]
  },
  {
   "cell_type": "code",
   "execution_count": 260,
   "metadata": {
    "collapsed": false
   },
   "outputs": [
    {
     "data": {
      "text/plain": [
       "2"
      ]
     },
     "execution_count": 260,
     "metadata": {},
     "output_type": "execute_result"
    }
   ],
   "source": [
    "qqq = np.arange(N)\n",
    "qqq[0]=2\n",
    "qqq[0]"
   ]
  },
  {
   "cell_type": "code",
   "execution_count": 210,
   "metadata": {
    "collapsed": true
   },
   "outputs": [],
   "source": [
    "import numpy as np\n",
    "import matplotlib.pyplot as plt"
   ]
  },
  {
   "cell_type": "code",
   "execution_count": null,
   "metadata": {
    "collapsed": false
   },
   "outputs": [],
   "source": [
    "N = 18\n",
    "ind = np.arange(N)  # the x locations for the groups\n",
    "width = 0.15       # the width of the bars\n",
    "\n",
    "fig = plt.figure()\n",
    "ax = fig.add_subplot(111)\n",
    "'EJIS','ISJ','ISR', 'JAIS', 'JIT', 'JMIS','JSIS','MISQ'\n",
    "\n",
    "yvals = EJIS_R\n",
    "rects1 = ax.bar(ind, yvals, width, color='b')\n",
    "zvals = ISJ_R\n",
    "rects2 = ax.bar(ind+width, zvals, width, color='g')\n",
    "kvals = ISR_R\n",
    "rects3 = ax.bar(ind+width*2, kvals, width, color='r')\n",
    "avals = JAIS_R\n",
    "rects4 = ax.bar(ind+width*3, avals, width, color='c')\n",
    "bvals = JIT_R\n",
    "rects5 = ax.bar(ind+width*4, bvals, width, color='m')\n",
    "cvals = JMIS_R\n",
    "rects6 = ax.bar(ind+width*5, cvals, width, color='y')\n",
    "dvals = JSIS_R\n",
    "rects7 = ax.bar(ind+width*6, dvals, width, color='k')\n",
    "evals = MISQ_R\n",
    "rects8 = ax.bar(ind+width*7, evals, width, color='w')\n",
    "\n",
    "ax.set_ylabel('Scores')\n",
    "ax.set_xticks(ind+width)\n",
    "ax.set_xticklabels( ('2000', '2001', '2002','2003',\"2004\",\"2005\",\"2006\",\"2007\",\"2008\",'2009', '2010', '2011','2012', \"2013\",\"2014\",\"2015\",\"2016\"\n",
    "                     ,\"2017\",\"2018\" ) )\n",
    "ax.legend( (rects1[0], rects2[0], rects3[0], rects4[0], rects5[0], rects6[0], rects7[0], rects8[0]), ('EJIS','ISJ','ISR', 'JAIS', 'JIT', 'JMIS',\n",
    "                                                                                                      'JSIS','MISQ') )\n",
    "\n",
    "def autolabel(rects):\n",
    "    for rect in rects:\n",
    "        h = rect.get_height()\n",
    "        ax.text(rect.get_x()+rect.get_width()/2., 1*h,\n",
    "                ha='center', va='bottom')\n",
    "\n",
    "autolabel(rects1)\n",
    "autolabel(rects2)\n",
    "autolabel(rects3)\n",
    "autolabel(rects4)\n",
    "autolabel(rects5)\n",
    "autolabel(rects6)\n",
    "autolabel(rects7)\n",
    "autolabel(rects8)\n",
    "\n",
    "plt.show()"
   ]
  },
  {
   "cell_type": "code",
   "execution_count": null,
   "metadata": {
    "collapsed": true
   },
   "outputs": [],
   "source": []
  },
  {
   "cell_type": "code",
   "execution_count": 219,
   "metadata": {
    "collapsed": false
   },
   "outputs": [],
   "source": [
    "dic_2000=[]\n",
    "for i in range (0, len(df1.index)):\n",
    "    b = ref_count(df1.loc[i,\"CR\"])\n",
    "    a = merge_journals(b)\n",
    "    g= {'id': i,'source': df1.loc[i,\"SO\"],'target':[{'j':'MISQ','count':a[\"MISQ\"]},{'j':'JIT','count':a[\"JIT\"]},\n",
    "                                              {'j':'EJIS','count':a[\"EJIS\"]},{'j':'JMIS','count':a[\"JMIS\"]},\n",
    "                                              {'j':'ISR','count':a[\"ISR\"]},{'j':'JAIS','count':a[\"JAIS\"]},\n",
    "                                              {'j':'ISJ','count':a[\"ISJ\"]},{'j':'JSIS','count':a[\"JSIS\"]}]}\n",
    "    dic_2000.append(g)"
   ]
  },
  {
   "cell_type": "code",
   "execution_count": 220,
   "metadata": {
    "collapsed": false
   },
   "outputs": [],
   "source": [
    "final_2000={'ISJ':{'MISQ':0, 'ISR':0, 'JIT':0, 'EJIS':0, 'JAIS':0, 'ISJ':0, \"JSIS\":0,'JMIS':0},\n",
    "       'JSIS':{'MISQ':0, 'ISR':0, 'JIT':0, 'EJIS':0, 'JAIS':0, 'ISJ':0, \"JSIS\":0,'JMIS':0},\n",
    "       'ISR':{'MISQ':0, 'ISR':0, 'JIT':0, 'EJIS':0, 'JAIS':0, 'ISJ':0, \"JSIS\":0,'JMIS':0},\n",
    "       'MISQ':{'MISQ':0, 'ISR':0, 'JIT':0, 'EJIS':0, 'JAIS':0, 'ISJ':0, \"JSIS\":0,'JMIS':0},\n",
    "       'JAIS' :{'MISQ':0, 'ISR':0, 'JIT':0, 'EJIS':0, 'JAIS':0, 'ISJ':0, \"JSIS\":0,'JMIS':0},\n",
    "       \"EJIS\":{'MISQ':0, 'ISR':0, 'JIT':0, 'EJIS':0, 'JAIS':0, 'ISJ':0, \"JSIS\":0,'JMIS':0},\n",
    "       'JIT':{'MISQ':0, 'ISR':0, 'JIT':0, 'EJIS':0, 'JAIS':0, 'ISJ':0, \"JSIS\":0,'JMIS':0},\n",
    "       \"JMIS\": {'MISQ':0, 'ISR':0, 'JIT':0, 'EJIS':0, 'JAIS':0, 'ISJ':0, \"JSIS\":0,'JMIS':0}\n",
    "      }\n",
    "for article in dic_2000:\n",
    "    source=article['source']\n",
    "    targets=article['target']\n",
    "    for target in targets:\n",
    "        jname=target['j']\n",
    "        jcount=target['count']\n",
    "        for so in listofso:\n",
    "            for ta in listofj:\n",
    "                if source==so:\n",
    "                    if jname==ta:\n",
    "                        final_2000[so][ta]=final_2000[so][ta]+jcount"
   ]
  },
  {
   "cell_type": "code",
   "execution_count": 222,
   "metadata": {
    "collapsed": true
   },
   "outputs": [],
   "source": [
    "citation_2000=pd.DataFrame(data=final_2000)\n",
    "given_citation_2000 = citation_2000.sum(axis=0) # number of times each journal cited any of 8\n",
    "recieved_citatio_2000 = citation_2000.sum(axis=1) # number of citation each journal recieved from other 8"
   ]
  },
  {
   "cell_type": "code",
   "execution_count": 234,
   "metadata": {
    "collapsed": false
   },
   "outputs": [],
   "source": [
    "citation_per_2000= citation_2000\n",
    "for so in listofso:\n",
    "    for ta in listofj:\n",
    "        citation_per_2000.loc[ta,so]= citation_2000.loc[ta,so]/given_citation_2000[so]"
   ]
  },
  {
   "cell_type": "code",
   "execution_count": 233,
   "metadata": {
    "collapsed": false
   },
   "outputs": [
    {
     "data": {
      "text/html": [
       "<div>\n",
       "<table border=\"1\" class=\"dataframe\">\n",
       "  <thead>\n",
       "    <tr style=\"text-align: right;\">\n",
       "      <th></th>\n",
       "      <th>EJIS</th>\n",
       "      <th>ISJ</th>\n",
       "      <th>ISR</th>\n",
       "      <th>JAIS</th>\n",
       "      <th>JIT</th>\n",
       "      <th>JMIS</th>\n",
       "      <th>JSIS</th>\n",
       "      <th>MISQ</th>\n",
       "    </tr>\n",
       "  </thead>\n",
       "  <tbody>\n",
       "    <tr>\n",
       "      <th>EJIS</th>\n",
       "      <td>0.205866%</td>\n",
       "      <td>0.085911%</td>\n",
       "      <td>0.029365%</td>\n",
       "      <td>0.052077%</td>\n",
       "      <td>0.100786%</td>\n",
       "      <td>0.021626%</td>\n",
       "      <td>0.061648%</td>\n",
       "      <td>0.042824%</td>\n",
       "    </tr>\n",
       "    <tr>\n",
       "      <th>ISJ</th>\n",
       "      <td>0.047886%</td>\n",
       "      <td>0.202759%</td>\n",
       "      <td>0.015873%</td>\n",
       "      <td>0.035204%</td>\n",
       "      <td>0.063338%</td>\n",
       "      <td>0.011954%</td>\n",
       "      <td>0.030231%</td>\n",
       "      <td>0.020299%</td>\n",
       "    </tr>\n",
       "    <tr>\n",
       "      <th>ISR</th>\n",
       "      <td>0.156719%</td>\n",
       "      <td>0.146321%</td>\n",
       "      <td>0.370159%</td>\n",
       "      <td>0.208793%</td>\n",
       "      <td>0.139852%</td>\n",
       "      <td>0.198978%</td>\n",
       "      <td>0.131199%</td>\n",
       "      <td>0.245459%</td>\n",
       "    </tr>\n",
       "    <tr>\n",
       "      <th>JAIS</th>\n",
       "      <td>0.043648%</td>\n",
       "      <td>0.037834%</td>\n",
       "      <td>0.034762%</td>\n",
       "      <td>0.104802%</td>\n",
       "      <td>0.055016%</td>\n",
       "      <td>0.025212%</td>\n",
       "      <td>0.028255%</td>\n",
       "      <td>0.048700%</td>\n",
       "    </tr>\n",
       "    <tr>\n",
       "      <th>JIT</th>\n",
       "      <td>0.042044%</td>\n",
       "      <td>0.053930%</td>\n",
       "      <td>0.012698%</td>\n",
       "      <td>0.028391%</td>\n",
       "      <td>0.151410%</td>\n",
       "      <td>0.012606%</td>\n",
       "      <td>0.052756%</td>\n",
       "      <td>0.017628%</td>\n",
       "    </tr>\n",
       "    <tr>\n",
       "      <th>JMIS</th>\n",
       "      <td>0.106198%</td>\n",
       "      <td>0.087166%</td>\n",
       "      <td>0.121270%</td>\n",
       "      <td>0.125406%</td>\n",
       "      <td>0.092233%</td>\n",
       "      <td>0.387850%</td>\n",
       "      <td>0.096028%</td>\n",
       "      <td>0.111111%</td>\n",
       "    </tr>\n",
       "    <tr>\n",
       "      <th>JSIS</th>\n",
       "      <td>0.033223%</td>\n",
       "      <td>0.043687%</td>\n",
       "      <td>0.017778%</td>\n",
       "      <td>0.019955%</td>\n",
       "      <td>0.056403%</td>\n",
       "      <td>0.014779%</td>\n",
       "      <td>0.257064%</td>\n",
       "      <td>0.021457%</td>\n",
       "    </tr>\n",
       "    <tr>\n",
       "      <th>MISQ</th>\n",
       "      <td>0.364417%</td>\n",
       "      <td>0.342391%</td>\n",
       "      <td>0.398095%</td>\n",
       "      <td>0.425373%</td>\n",
       "      <td>0.340962%</td>\n",
       "      <td>0.326994%</td>\n",
       "      <td>0.342818%</td>\n",
       "      <td>0.492521%</td>\n",
       "    </tr>\n",
       "  </tbody>\n",
       "</table>\n",
       "</div>"
      ],
      "text/plain": [
       "            EJIS         ISJ         ISR        JAIS         JIT        JMIS  \\\n",
       "EJIS   0.205866%   0.085911%   0.029365%   0.052077%   0.100786%   0.021626%   \n",
       "ISJ    0.047886%   0.202759%   0.015873%   0.035204%   0.063338%   0.011954%   \n",
       "ISR    0.156719%   0.146321%   0.370159%   0.208793%   0.139852%   0.198978%   \n",
       "JAIS   0.043648%   0.037834%   0.034762%   0.104802%   0.055016%   0.025212%   \n",
       "JIT    0.042044%   0.053930%   0.012698%   0.028391%   0.151410%   0.012606%   \n",
       "JMIS   0.106198%   0.087166%   0.121270%   0.125406%   0.092233%   0.387850%   \n",
       "JSIS   0.033223%   0.043687%   0.017778%   0.019955%   0.056403%   0.014779%   \n",
       "MISQ   0.364417%   0.342391%   0.398095%   0.425373%   0.340962%   0.326994%   \n",
       "\n",
       "            JSIS        MISQ  \n",
       "EJIS   0.061648%   0.042824%  \n",
       "ISJ    0.030231%   0.020299%  \n",
       "ISR    0.131199%   0.245459%  \n",
       "JAIS   0.028255%   0.048700%  \n",
       "JIT    0.052756%   0.017628%  \n",
       "JMIS   0.096028%   0.111111%  \n",
       "JSIS   0.257064%   0.021457%  \n",
       "MISQ   0.342818%   0.492521%  "
      ]
     },
     "execution_count": 233,
     "metadata": {},
     "output_type": "execute_result"
    }
   ],
   "source": [
    "output= pd.Series([round(val, 2) for val in citation_per_2000])\n",
    "df['var3'] = pd.Series([\"{0:.2f}%\".format(val * 100) for val in df['var3']], index = df.index)"
   ]
  },
  {
   "cell_type": "code",
   "execution_count": 236,
   "metadata": {
    "collapsed": true
   },
   "outputs": [
    {
     "data": {
      "text/html": [
       "<div>\n",
       "<table border=\"1\" class=\"dataframe\">\n",
       "  <thead>\n",
       "    <tr style=\"text-align: right;\">\n",
       "      <th></th>\n",
       "      <th>EJIS</th>\n",
       "      <th>ISJ</th>\n",
       "      <th>ISR</th>\n",
       "      <th>JAIS</th>\n",
       "      <th>JIT</th>\n",
       "      <th>JMIS</th>\n",
       "      <th>JSIS</th>\n",
       "      <th>MISQ</th>\n",
       "    </tr>\n",
       "  </thead>\n",
       "  <tbody>\n",
       "    <tr>\n",
       "      <th>EJIS</th>\n",
       "      <td>0.000024%</td>\n",
       "      <td>0.000018%</td>\n",
       "      <td>0.000005%</td>\n",
       "      <td>0.000008%</td>\n",
       "      <td>0.000023%</td>\n",
       "      <td>0.000002%</td>\n",
       "      <td>0.000012%</td>\n",
       "      <td>0.000004%</td>\n",
       "    </tr>\n",
       "    <tr>\n",
       "      <th>ISJ</th>\n",
       "      <td>0.000005%</td>\n",
       "      <td>0.000042%</td>\n",
       "      <td>0.000003%</td>\n",
       "      <td>0.000006%</td>\n",
       "      <td>0.000015%</td>\n",
       "      <td>0.000001%</td>\n",
       "      <td>0.000006%</td>\n",
       "      <td>0.000002%</td>\n",
       "    </tr>\n",
       "    <tr>\n",
       "      <th>ISR</th>\n",
       "      <td>0.000018%</td>\n",
       "      <td>0.000031%</td>\n",
       "      <td>0.000059%</td>\n",
       "      <td>0.000034%</td>\n",
       "      <td>0.000032%</td>\n",
       "      <td>0.000022%</td>\n",
       "      <td>0.000026%</td>\n",
       "      <td>0.000022%</td>\n",
       "    </tr>\n",
       "    <tr>\n",
       "      <th>JAIS</th>\n",
       "      <td>0.000005%</td>\n",
       "      <td>0.000008%</td>\n",
       "      <td>0.000006%</td>\n",
       "      <td>0.000017%</td>\n",
       "      <td>0.000013%</td>\n",
       "      <td>0.000003%</td>\n",
       "      <td>0.000006%</td>\n",
       "      <td>0.000004%</td>\n",
       "    </tr>\n",
       "    <tr>\n",
       "      <th>JIT</th>\n",
       "      <td>0.000005%</td>\n",
       "      <td>0.000011%</td>\n",
       "      <td>0.000002%</td>\n",
       "      <td>0.000005%</td>\n",
       "      <td>0.000035%</td>\n",
       "      <td>0.000001%</td>\n",
       "      <td>0.000010%</td>\n",
       "      <td>0.000002%</td>\n",
       "    </tr>\n",
       "    <tr>\n",
       "      <th>JMIS</th>\n",
       "      <td>0.000012%</td>\n",
       "      <td>0.000018%</td>\n",
       "      <td>0.000019%</td>\n",
       "      <td>0.000020%</td>\n",
       "      <td>0.000021%</td>\n",
       "      <td>0.000042%</td>\n",
       "      <td>0.000019%</td>\n",
       "      <td>0.000010%</td>\n",
       "    </tr>\n",
       "    <tr>\n",
       "      <th>JSIS</th>\n",
       "      <td>0.000004%</td>\n",
       "      <td>0.000009%</td>\n",
       "      <td>0.000003%</td>\n",
       "      <td>0.000003%</td>\n",
       "      <td>0.000013%</td>\n",
       "      <td>0.000002%</td>\n",
       "      <td>0.000051%</td>\n",
       "      <td>0.000002%</td>\n",
       "    </tr>\n",
       "    <tr>\n",
       "      <th>MISQ</th>\n",
       "      <td>0.000042%</td>\n",
       "      <td>0.000072%</td>\n",
       "      <td>0.000063%</td>\n",
       "      <td>0.000069%</td>\n",
       "      <td>0.000079%</td>\n",
       "      <td>0.000036%</td>\n",
       "      <td>0.000068%</td>\n",
       "      <td>0.000044%</td>\n",
       "    </tr>\n",
       "  </tbody>\n",
       "</table>\n",
       "</div>"
      ],
      "text/plain": [
       "            EJIS         ISJ         ISR        JAIS         JIT        JMIS  \\\n",
       "EJIS   0.000024%   0.000018%   0.000005%   0.000008%   0.000023%   0.000002%   \n",
       "ISJ    0.000005%   0.000042%   0.000003%   0.000006%   0.000015%   0.000001%   \n",
       "ISR    0.000018%   0.000031%   0.000059%   0.000034%   0.000032%   0.000022%   \n",
       "JAIS   0.000005%   0.000008%   0.000006%   0.000017%   0.000013%   0.000003%   \n",
       "JIT    0.000005%   0.000011%   0.000002%   0.000005%   0.000035%   0.000001%   \n",
       "JMIS   0.000012%   0.000018%   0.000019%   0.000020%   0.000021%   0.000042%   \n",
       "JSIS   0.000004%   0.000009%   0.000003%   0.000003%   0.000013%   0.000002%   \n",
       "MISQ   0.000042%   0.000072%   0.000063%   0.000069%   0.000079%   0.000036%   \n",
       "\n",
       "            JSIS        MISQ  \n",
       "EJIS   0.000012%   0.000004%  \n",
       "ISJ    0.000006%   0.000002%  \n",
       "ISR    0.000026%   0.000022%  \n",
       "JAIS   0.000006%   0.000004%  \n",
       "JIT    0.000010%   0.000002%  \n",
       "JMIS   0.000019%   0.000010%  \n",
       "JSIS   0.000051%   0.000002%  \n",
       "MISQ   0.000068%   0.000044%  "
      ]
     },
     "execution_count": 236,
     "metadata": {},
     "output_type": "execute_result"
    }
   ],
   "source": [
    "citation_per_2000"
   ]
  },
  {
   "cell_type": "code",
   "execution_count": 20,
   "metadata": {
    "collapsed": true
   },
   "outputs": [],
   "source": [
    "#breakdown of papers by years"
   ]
  },
  {
   "cell_type": "code",
   "execution_count": null,
   "metadata": {
    "collapsed": true
   },
   "outputs": [],
   "source": []
  }
 ],
 "metadata": {
  "kernelspec": {
   "display_name": "Python 3",
   "language": "python",
   "name": "python3"
  },
  "language_info": {
   "codemirror_mode": {
    "name": "ipython",
    "version": 3
   },
   "file_extension": ".py",
   "mimetype": "text/x-python",
   "name": "python",
   "nbconvert_exporter": "python",
   "pygments_lexer": "ipython3",
   "version": "3.4.3"
  }
 },
 "nbformat": 4,
 "nbformat_minor": 2
}
